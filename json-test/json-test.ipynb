{
 "cells": [
  {
   "cell_type": "markdown",
   "metadata": {},
   "source": [
    "[reference]    \n",
    "https://ctkim.tistory.com/entry/%ED%8C%8C%EC%9D%B4%EC%8D%AC-json-%EB%AA%A8%EB%93%88"
   ]
  },
  {
   "cell_type": "markdown",
   "metadata": {},
   "source": [
    "1. json 모듈\n",
    "\n",
    "json 데이터를 파싱하고 생성하는 모듈"
   ]
  },
  {
   "cell_type": "markdown",
   "metadata": {},
   "source": [
    "### 2.json.dumps\n",
    "json.dumps는 파이선 객체를 json gudtlrdmfh *직렬화(serializing)하는 함수.   \n",
    "\n",
    "즉, 파이썬 객체를 JSON 문자열로 변환하는 역할   \n",
    "\n",
    "Python 객체를 JSON 형식으로 변환하여 문자열로 반환  "
   ]
  },
  {
   "cell_type": "code",
   "execution_count": 2,
   "metadata": {},
   "outputs": [
    {
     "name": "stdout",
     "output_type": "stream",
     "text": [
      "{\"name\": \"Alice\", \"age\": 25, \"city\": \"New York\"}\n"
     ]
    }
   ],
   "source": [
    "import json\n",
    "\n",
    "data = {\"name\": \"Alice\", \"age\": 25, \"city\": \"New York\"}\n",
    "json_string = json.dumps(data)\n",
    "\n",
    "print(json_string)"
   ]
  },
  {
   "cell_type": "markdown",
   "metadata": {},
   "source": [
    "### 3. Json.loads"
   ]
  },
  {
   "cell_type": "code",
   "execution_count": 3,
   "metadata": {},
   "outputs": [
    {
     "name": "stdout",
     "output_type": "stream",
     "text": [
      "{'name': 'Alice', 'age': 25, 'city': 'New York'}\n"
     ]
    }
   ],
   "source": [
    "import json\n",
    "\n",
    "json_string = '{\"name\": \"Alice\", \"age\": 25, \"city\": \"New York\"}'\n",
    "data = json.loads(json_string)\n",
    "\n",
    "print(data)"
   ]
  },
  {
   "cell_type": "markdown",
   "metadata": {},
   "source": [
    "### 4.json.dump"
   ]
  },
  {
   "cell_type": "code",
   "execution_count": 1,
   "metadata": {},
   "outputs": [],
   "source": [
    "import json\n",
    "\n",
    "data = {\"name\": \"Alice\", \"age\": 25, \"city\": \"New York\"}\n",
    "\n",
    "with open(\"data.json\", \"w\") as f:\n",
    "    json.dump(data, f)"
   ]
  },
  {
   "cell_type": "markdown",
   "metadata": {},
   "source": [
    "### json.load"
   ]
  },
  {
   "cell_type": "code",
   "execution_count": 2,
   "metadata": {},
   "outputs": [
    {
     "name": "stdout",
     "output_type": "stream",
     "text": [
      "{'name': 'Alice', 'age': 25, 'city': 'New York'}\n"
     ]
    }
   ],
   "source": [
    "import json\n",
    "\n",
    "with open(\"data.json\", \"r\") as f:\n",
    "    data = json.load(f)\n",
    "\n",
    "print(data)"
   ]
  },
  {
   "cell_type": "markdown",
   "metadata": {},
   "source": [
    "### Example code"
   ]
  },
  {
   "cell_type": "code",
   "execution_count": 9,
   "metadata": {},
   "outputs": [
    {
     "name": "stdout",
     "output_type": "stream",
     "text": [
      "Alice\n",
      "Fluffy\n",
      "27\n",
      "123-456-7890\n"
     ]
    }
   ],
   "source": [
    "import json\n",
    "\n",
    "json_string = \"\"\"\n",
    "{\n",
    "    \"name\": \"Alice\",\n",
    "    \"age\": 25,\n",
    "    \"city\": \"New York\",\n",
    "    \"pets\": [\n",
    "        {\"name\": \"Fluffy\", \"type\": \"cat\"},\n",
    "        {\"name\": \"Buddy\", \"type\": \"dog\"}\n",
    "    ],\n",
    "    \"friends\": [\n",
    "        {\"name\": \"Bob\", \"age\": 30},\n",
    "        {\"name\": \"Charlie\", \"age\": 28},\n",
    "        {\"name\": \"Dave\", \"age\": 27}\n",
    "    ],\n",
    "    \"contact\": {\n",
    "        \"phone\": \"123-456-7890\",\n",
    "        \"email\": \"alice@example.com\"\n",
    "    }\n",
    "}\n",
    "\"\"\"\n",
    "\n",
    "data = json.loads(json_string)\n",
    "\n",
    "print(data[\"name\"]) # \"Alice\"\n",
    "print(data[\"pets\"][0][\"name\"]) # \"Fluffy\"\n",
    "print(data[\"friends\"][2][\"age\"]) # 27\n",
    "print(data[\"contact\"][\"phone\"]) # \"123-456-7890\""
   ]
  },
  {
   "cell_type": "code",
   "execution_count": 10,
   "metadata": {},
   "outputs": [],
   "source": [
    "with open(\"example-data.json\", \"w\") as f:\n",
    "    json.dump(data, f)"
   ]
  },
  {
   "cell_type": "code",
   "execution_count": 11,
   "metadata": {},
   "outputs": [
    {
     "name": "stdout",
     "output_type": "stream",
     "text": [
      "Alice\n",
      "Fluffy\n",
      "27\n",
      "123-456-7890\n"
     ]
    }
   ],
   "source": [
    "import json\n",
    "\n",
    "with open(\"example-data.json\", \"r\") as f:\n",
    "    data = json.load(f)\n",
    "\n",
    "print(data[\"name\"]) # \"Alice\"\n",
    "print(data[\"pets\"][0][\"name\"]) # \"Fluffy\"\n",
    "print(data[\"friends\"][2][\"age\"]) # 27\n",
    "print(data[\"contact\"][\"phone\"]) # \"123-456-7890\""
   ]
  },
  {
   "cell_type": "code",
   "execution_count": null,
   "metadata": {},
   "outputs": [],
   "source": []
  },
  {
   "cell_type": "code",
   "execution_count": null,
   "metadata": {},
   "outputs": [],
   "source": []
  },
  {
   "cell_type": "code",
   "execution_count": null,
   "metadata": {},
   "outputs": [],
   "source": []
  },
  {
   "cell_type": "code",
   "execution_count": null,
   "metadata": {},
   "outputs": [],
   "source": []
  }
 ],
 "metadata": {
  "kernelspec": {
   "display_name": "Python 3",
   "language": "python",
   "name": "python3"
  },
  "language_info": {
   "codemirror_mode": {
    "name": "ipython",
    "version": 3
   },
   "file_extension": ".py",
   "mimetype": "text/x-python",
   "name": "python",
   "nbconvert_exporter": "python",
   "pygments_lexer": "ipython3",
   "version": "3.11.0"
  }
 },
 "nbformat": 4,
 "nbformat_minor": 2
}
